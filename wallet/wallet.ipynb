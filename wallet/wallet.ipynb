{
 "cells": [
  {
   "cell_type": "code",
   "execution_count": 1,
   "id": "f9b58f92-1dc1-4b66-acaf-53fcd8980875",
   "metadata": {},
   "outputs": [],
   "source": [
    "# Import dependencies\n",
    "import os\n",
    "import subprocess\n",
    "import json\n",
    "from pprint import pprint\n",
    "from dotenv import load_dotenv\n",
    "\n",
    "# Load and set environment variables\n",
    "load_dotenv()\n",
    "mnemonic=os.getenv(\"mnemonic\")\n",
    "\n",
    "# Import constants.py and necessary functions from bit and web3\n",
    "from constants import *\n",
    "\n",
    "from bit.network import NetworkAPI\n",
    "from bit import PrivateKeyTestnet\n",
    "from bit import wif_to_key\n",
    "\n",
    "from web3 import Web3, middleware, Account\n",
    "from web3.middleware import geth_poa_middleware\n",
    "\n",
    "from web3.gas_strategies.time_based import medium_gas_price_strategy\n",
    "\n",
    "#w3 = Web3(Web3.HTTPProvider(\"http://127.0.0.1:8545\"))\n",
    "w3 = Web3(Web3.HTTPProvider('http://localhost:8545'))\n",
    "w3.middleware_onion.inject(geth_poa_middleware, layer=0)\n",
    "w3.eth.setGasPriceStrategy(medium_gas_price_strategy)\n",
    "\n",
    "from coincurve.keys import PrivateKey"
   ]
  },
  {
   "cell_type": "code",
   "execution_count": 2,
   "id": "b9df96e3-dfe9-4eb6-a4bd-2d107e0a6b47",
   "metadata": {},
   "outputs": [
    {
     "data": {
      "text/plain": [
       "{'eth': [{'path': \"m/44'/60'/0'/0/0\",\n",
       "   'address': '0xACD5650F73716e4644E565920677d711CBcaa8d5',\n",
       "   'xprv': 'xprvA3YBquoaiQxUApZfK9DwA1ziNP8WnbCvXFyGKUiBE8H86iRyWsg9MDT6UA8J1CeAizjhWwqs8xSC3UsKBErr7UhAihFcYCdSpfp2JWfiJVb',\n",
       "   'xpub': 'xpub6GXYFRLUYnWmPJe8RAkwX9wSvQy1C3vmtUts7s7nnTp6yWm84QzPu1maKQBvj7XsXRRWeFGxN7SUFaXnjkyDqFkv4W3en3rwWSfeZrFc1ju',\n",
       "   'privkey': '0xd6fc22e07ab6249f9afa39a1143ee68f183311e2478df1350e48a5d82ebf87e9',\n",
       "   'pubkey': '0257872142df3da8e966d2ad2d1fe3c222268e43c04e58f13bf05b4eece2aa7ba2',\n",
       "   'pubkeyhash': '321a9150fe83442d89fd875ccb61a03fc33c2675',\n",
       "   'index': 0},\n",
       "  {'path': \"m/44'/60'/0'/0/1\",\n",
       "   'address': '0x3cd4713cb58FCE3dC14f0527E19EA2A451F4c787',\n",
       "   'xprv': 'xprvA3YBquoaiQxUDFdgaqGRPZCGHMe3cBQg87HhenkN4Sjx2Towu4ZJie3vbwRepXDoKn8H6hE89Vf3CLz5w2cZW86BYbPHN5Toh9ijQqgHhpe',\n",
       "   'xpub': 'xpub6GXYFRLUYnWmRji9groRkh8zqPUY1e8XVLDJTB9ycnGvuG96SbsZGSNQTDP4AkQgtFNTtE5Y4AbXGMbPSVnbQmZDT9Yg4sdojcPrboMj8z6',\n",
       "   'privkey': '0x338964724443f8e65f6812d9888fb21fb9d577a69e199da78bb3e9349bc6d5af',\n",
       "   'pubkey': '02ad5313c6b5900a5bf55d1fc2f7965bdf5f1f41b6ac713e8a12bf30ae374d17e8',\n",
       "   'pubkeyhash': '7f032f24d3e45f697b77b115d1b73ff061af500d',\n",
       "   'index': 1},\n",
       "  {'path': \"m/44'/60'/0'/0/2\",\n",
       "   'address': '0x3235bb19f243a4D248439f878AeEbdd73C207C47',\n",
       "   'xprv': 'xprvA3YBquoaiQxUDpM5W6BqKKvPYpSDMUDdddTivGxreh2t2RVh7WQTmiiaEMsZnKSw96xHfKTLnQCFSvP7DSm4dcZugbrsXN9r8uwjbmn3VXt',\n",
       "   'xpub': 'xpub6GXYFRLUYnWmSJRYc7iqgTs86rGhkvwUzrPKifNUD2ZruDpqf3iiKX345fDi7B7iy3wLosPqsYdpoiW1udDo8eVQQsbYCjXRYvqN6X6ay21',\n",
       "   'privkey': '0x0d2aaaea5669e072877eae319eed4fa604c76c662d0e2f63ddee9ccc5030d94c',\n",
       "   'pubkey': '033e4968d22b43861298e98fd673baabbf30f2ea92465deefec5f013233725ad46',\n",
       "   'pubkeyhash': '516c91b8c44d27212a1caefa8b0722b2388a042b',\n",
       "   'index': 2}],\n",
       " 'btc-test': [{'path': \"m/44'/1'/0'/0/0\",\n",
       "   'address': 'mqfEdw57dF1kiVALzy1kjHSMpn2pKNFe6q',\n",
       "   'xprv': 'tprv8jXpJgLKbMefQhNq1EUymw2KY8zbj4WiE8yB4y8KyzN5ejYQvDxwmmxaxTDrSsrMsFLSGMjsoDagR1Cfhrs1zUCTKnLp1bxXBm6cn2kBmdj',\n",
       "   'xpub': 'tpubDGDrT6NZjjLLJAQctt9aBLgS7AWXtPhcoSZxMVAdQGAUVDoBYcnXxGaT8bUfmghKN2Jqak97XjD4wdyyrHU7QiQCCAazQooQPUtdiowxfJT',\n",
       "   'privkey': 'cT7TPYw2pAVCCbpBKkX9cUxxNMq4iajwvNwHTkEzZLPx8wMHXMpn',\n",
       "   'pubkey': '035164d2b00783a16bef2164dd5f5922eaf96baf07a9567adedfdeecc34da8fe65',\n",
       "   'pubkeyhash': '6f423a4ee51714b0a2305f0d84d19361ca54aa06',\n",
       "   'index': 0},\n",
       "  {'path': \"m/44'/1'/0'/0/1\",\n",
       "   'address': 'n1WciTNdVQ972h6F26HXurWXPU7myak2se',\n",
       "   'xprv': 'tprv8jXpJgLKbMefSnsmezvhmNFx8aeDAo6sWYvNmCXKcddA4oVZm5vGkGvrXE9AASsrJxX5V2pqjhXgRuYHqe2Rhy1MPDARRFokfDgsFGR8MhE',\n",
       "   'xpub': 'tpubDGDrT6NZjjLLLFuZYebJAmv4hcA9L8Hn5rXA3iZd2uRYuHkLPUjrvmYihMZRZXadvpzwSNFuFD4bvWwHsHsb7PhmiRVXtfhWFbzvS4MVG5p',\n",
       "   'privkey': 'cTvH9eMtcpFHDPhVoMtHJyH2FkbTA3P9DZUA5DshTGaMfEu5YRQu',\n",
       "   'pubkey': '02fb3dea093b893f55c918dfd021322f17d3ef618cd269ea6eb279ef50aed1858b',\n",
       "   'pubkeyhash': 'db522bf5509bc4aac3182a0e65993c6e78c2fedb',\n",
       "   'index': 1},\n",
       "  {'path': \"m/44'/1'/0'/0/2\",\n",
       "   'address': 'myQQWQtUkZKyhjrmtcCa4HZzFJmTmQPbjr',\n",
       "   'xprv': 'tprv8jXpJgLKbMefWDK2td9DuumGhJBA6Df4WpCrF3Zv3q7sFTwngwiDqrdkiceZGdHG6tC34LC23Z9c931nPhKP4YxwM1VGtsVE66rTEhihsnG',\n",
       "   'xpub': 'tpubDGDrT6NZjjLLPgLpnGopKKRPGKh6FYqy67odXZcDU6vG5xCZKLXp2MFctn3SKYyUXY82XQLCErmSp7nfrUb8D87TquUsig7Agp4tdx6WmML',\n",
       "   'privkey': 'cS9uQy7bR7BTP5Q11MyMVBY8MwZyyQbyooRocEmNJFpqeTw6cjzS',\n",
       "   'pubkey': '03cad2b651718c10ff27655db3482c6b38256b8df092c166144828ceb02caad0b9',\n",
       "   'pubkeyhash': 'c4353be4558d8f4c83d05fd46d95223095a0c06c',\n",
       "   'index': 2}]}"
      ]
     },
     "execution_count": 2,
     "metadata": {},
     "output_type": "execute_result"
    }
   ],
   "source": [
    "# Create a function called `derive_wallets`\n",
    "def derive_wallets(coin=BTC, mnemonic=mnemonic, depth=3):\n",
    "    command = f'php ./derive -g --mnemonic=\"{mnemonic}\" --cols=all --coin={coin} --numderive={depth} --format=json'\n",
    "    p = subprocess.Popen(command, stdout=subprocess.PIPE, shell=True)\n",
    "    (output, err) = p.communicate()\n",
    "    p_status = p.wait()\n",
    "    # keys = json.loads(output)\n",
    "    return json.loads(output)\n",
    "\n",
    "# Create a dictionary object called coins to store the output from `derive_wallets`.\n",
    "\n",
    "#coins = {'BTCTEST': derive_wallets(coin=BTC, mnemonic, depth=3), 'ETH': derive_wallets(coin=ETH, mnemonic, depth=3), 'BTCTEST': derive_wallets(coin=BTCTEST, mnemonic, depth=3)}\n",
    "#print(output)\n",
    "\n",
    "coins = {\n",
    "    ETH: derive_wallets(coin=ETH),\n",
    "    BTCTEST: derive_wallets(coin=BTCTEST),\n",
    "}\n",
    "coins"
   ]
  },
  {
   "cell_type": "code",
   "execution_count": 3,
   "id": "95855ede-8ab5-4ea0-b731-25ce585a6f26",
   "metadata": {},
   "outputs": [
    {
     "name": "stdout",
     "output_type": "stream",
     "text": [
      "<eth_account.signers.local.LocalAccount object at 0x0000017BCE8E6648>\n"
     ]
    }
   ],
   "source": [
    "# Create a function called `priv_key_to_account` that converts privkey strings to account objects.\n",
    "def priv_key_to_account(coin, priv_key):\n",
    "    if coin == ETH:\n",
    "        return Account.privateKeyToAccount(priv_key)\n",
    "    if coin == BTCTEST:\n",
    "        return PrivateKeyTestnet(priv_key)\n",
    "    \n",
    "acct = priv_key_to_account(ETH, '0xa50211e1c74190d6a344c1e646f8e3bf9bc2591815c196a8bcb0e11730cf12c4')\n",
    "print(acct)"
   ]
  },
  {
   "cell_type": "code",
   "execution_count": 4,
   "id": "cef8807e-a3c9-41d2-bde1-53ebaa128438",
   "metadata": {},
   "outputs": [
    {
     "name": "stdout",
     "output_type": "stream",
     "text": [
      "<eth_account.signers.local.LocalAccount object at 0x0000017BCE8E6648>\n"
     ]
    }
   ],
   "source": [
    "btcacct = priv_key_to_account(BTCTEST, 'cT7TPYw2pAVCCbpBKkX9cUxxNMq4iajwvNwHTkEzZLPx8wMHXMpn')\n",
    "print(acct)"
   ]
  },
  {
   "cell_type": "code",
   "execution_count": 5,
   "id": "e97a1e31-b075-420b-b349-6c27b151b91c",
   "metadata": {},
   "outputs": [],
   "source": [
    "# Create a function called `create_tx` that creates an unsigned transaction appropriate metadata.\n",
    "def create_tx(coin, account, to, amount):\n",
    "    if coin == ETH:\n",
    "        value = w3.toWei(amount, \"ether\") # convert 1.2 ETH to 120000000000 wei\n",
    "        gasEstimate = w3.eth.estimateGas({ \"to\": to, \"from\": account, \"amount\": value })\n",
    "        return {\n",
    "            \"to\": to,\n",
    "            \"from\": account,\n",
    "            \"value\": value,\n",
    "            \"gas\": gasEstimate,\n",
    "            \"gasPrice\": w3.eth.generateGasPrice(),\n",
    "            \"nonce\": w3.eth.getTransactionCount(account),\n",
    "            \"chainId\": w3.eth.chain_id\n",
    "        }\n",
    "    if coin == BTCTEST:\n",
    "        return PrivateKeyTestnet.prepare_transaction(account.address, [(to, amount, BTC)])\n"
   ]
  },
  {
   "cell_type": "code",
   "execution_count": 6,
   "id": "b8465013-265b-4e5f-8822-5d42ffa0fbc5",
   "metadata": {},
   "outputs": [],
   "source": [
    "# Create a function called `send_tx` that calls `create_tx`, signs and sends the transaction.\n",
    "def send_tx(coin, account, to, amount):\n",
    "    if coin == ETH:\n",
    "        raw_tx = create_tx(coin, account.address, to, amount)\n",
    "        signed = account.signTransaction(raw_tx)\n",
    "        return w3.eth.sendRawTransaction(signed.rawTransaction)\n",
    "    if coin == BTCTEST:\n",
    "        raw_tx = create_tx(coin, account, to, amount)\n",
    "        signed = account.sign_transaction(raw_tx)\n",
    "        return NetworkAPI.broadcast_tx_testnet(signed)\n",
    "    "
   ]
  },
  {
   "cell_type": "code",
   "execution_count": 7,
   "id": "56acb08a-cc42-4049-a9a2-64fbb4f0df40",
   "metadata": {},
   "outputs": [],
   "source": [
    "send_tx(BTCTEST, btcacct, 'mqfEdw57dF1kiVALzy1kjHSMpn2pKNFe6q', 0.0001)"
   ]
  },
  {
   "cell_type": "code",
   "execution_count": 11,
   "id": "c29781a7-5643-45ad-a738-20b5c058e758",
   "metadata": {},
   "outputs": [
    {
     "data": {
      "text/plain": [
       "HexBytes('0x1caebf861891ecf4b80586720f747ffc5146c220f68a29341e4c1ad20e6cdd64')"
      ]
     },
     "execution_count": 11,
     "metadata": {},
     "output_type": "execute_result"
    }
   ],
   "source": [
    "send_tx(ETH, acct, '0xACD5650F73716e4644E565920677d711CBcaa8d5', 10000000000000000000)"
   ]
  },
  {
   "cell_type": "code",
   "execution_count": null,
   "id": "c4e0998f-78b4-4fcb-b66f-0b4920b326b1",
   "metadata": {},
   "outputs": [],
   "source": []
  }
 ],
 "metadata": {
  "kernelspec": {
   "display_name": "Python 3",
   "language": "python",
   "name": "python3"
  },
  "language_info": {
   "codemirror_mode": {
    "name": "ipython",
    "version": 3
   },
   "file_extension": ".py",
   "mimetype": "text/x-python",
   "name": "python",
   "nbconvert_exporter": "python",
   "pygments_lexer": "ipython3",
   "version": "3.7.10"
  }
 },
 "nbformat": 4,
 "nbformat_minor": 5
}
