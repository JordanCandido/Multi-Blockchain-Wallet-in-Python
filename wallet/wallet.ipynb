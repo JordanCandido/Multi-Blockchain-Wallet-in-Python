{
 "cells": [
  {
   "cell_type": "code",
   "execution_count": 11,
   "id": "f9b58f92-1dc1-4b66-acaf-53fcd8980875",
   "metadata": {},
   "outputs": [],
   "source": [
    "# Import dependencies\n",
    "import os\n",
    "import subprocess\n",
    "import json\n",
    "from dotenv import load_dotenv\n",
    "\n",
    "# Load and set environment variables\n",
    "load_dotenv()\n",
    "mnemonic=os.getenv(\"mnemonic\")\n",
    "\n",
    "# Import constants.py and necessary functions from bit and web3\n",
    "from constants import *\n",
    "from bit import wif_to_key\n",
    "from web3 import Web3\n",
    "from web3.middleware import geth_poa_middleware\n",
    "\n",
    "w3 = Web3(Web3.HTTPProvider(\"http://127.0.0.1:8545\")) \n",
    "w3.middleware_onion.inject(geth_poa_middleware, layer=0)\n",
    "\n",
    "from coincurve.keys import PrivateKey"
   ]
  },
  {
   "cell_type": "code",
   "execution_count": 12,
   "id": "b9df96e3-dfe9-4eb6-a4bd-2d107e0a6b47",
   "metadata": {},
   "outputs": [
    {
     "data": {
      "text/plain": [
       "{'BTCTEST': [{'path': \"m/44'/0'/0'/0/0\",\n",
       "   'address': '1HHBwUQ2vQpi6SaH8cVk7sv2LsCYeqWmUA',\n",
       "   'xprv': 'xprvA48RTxRFNmh2Cnh8W2VECWRRspp6YDYNsaT1pnpNKaMG3JMmuK3g6CXwWUxNqBT8zFUdnC4NYC8Eamt6UoBBcBqPwFN3AUK9Z35R9ARcD8S',\n",
       "   'xpub': 'xpub6H7msTx9D9FKRGmbc42EZeNARreawgGEEoNcdBDysutEv6gvSrMvdzrRMim5MeqnhbXDnkzZ47iu6u9ND85bA5QjMebsmfaRfEPczzRFJ17',\n",
       "   'privkey': 'L4qEGUWqBd4wBLzZJ8NZWtqrMYUjYPJ17WhVdg9aZqc4yzygSvnf',\n",
       "   'pubkey': '0241c43363951cc43721243a8965f6a8bddd5e153de582976e0b23a24737459e76',\n",
       "   'pubkeyhash': 'b291ccabbe0bb2de53d21050f1bcac41906dfc3a',\n",
       "   'index': 0},\n",
       "  {'path': \"m/44'/0'/0'/0/1\",\n",
       "   'address': '1HJzHgSmEBSQjDJPijxUH1KzAGoP1jcQjp',\n",
       "   'xprv': 'xprvA48RTxRFNmh2F8J5jEYVPo24G98yJGm1vVAJGwvCvUt2XucLrXmRrrWQJd8Pc3C73vVAq5tqQsJgz44rD5YRijPBwnQzDeu76E2c4uVUQKS',\n",
       "   'xpub': 'xpub6H7msTx9D9FKTcNYqG5VkvxnpAyThjUsHi5u5LKpUpR1QhwVQ55gQept9spqe8XLt2ChuZr5DxpJqgiE3CgrAgqFfM1cmUKkUmHG994296t',\n",
       "   'privkey': 'L5DMwarwnKxVyD3cwk9nct15cv67ow3d4vZzwJQLktyi8qtCn7z9',\n",
       "   'pubkey': '02c2a840843a02d5740791c13dd875f675d2484ebfa959f7ec37607a8c7e38aa08',\n",
       "   'pubkeyhash': 'b2e8e7b89ae8a23abc6c12e642b44ef3ddd90445',\n",
       "   'index': 1},\n",
       "  {'path': \"m/44'/0'/0'/0/2\",\n",
       "   'address': '1E1REKtW25RTmTUc7JpMfWc1TuwHGTgs8c',\n",
       "   'xprv': 'xprvA48RTxRFNmh2HAJ6Vss3akVBmW96ALfMCZ2h7i6DhF6JGvfV6tNfikRaSHmMdttU7i3Vtpkkx6JtCFnuNpGJpYYo2rwwCfbFza7irqCpkci',\n",
       "   'xpub': 'xpub6H7msTx9D9FKVeNZbuQ3wtRvKXyaZoPCZmxHv6VqFadH9izdeRgvGYk4HYv3zwauGqMXZCo1mKfbrCmKtXZtGSHhWU4wcaGwo9Nj9KZwCZD',\n",
       "   'privkey': 'Kwxrpr33ryWdxTDqc1zbHcBdxHTbkxEbgD86M87U6df9S5bSM1SN',\n",
       "   'pubkey': '0225eea05d846d989e3419ab528f9fd019b268801dfd0a0828f494e8c1edc80bfb',\n",
       "   'pubkeyhash': '8eaddc75827265c9e3bd28ea0f7825f0038c4563',\n",
       "   'index': 2}],\n",
       " 'ETH': [{'path': \"m/44'/60'/0'/0/0\",\n",
       "   'address': '0xACD5650F73716e4644E565920677d711CBcaa8d5',\n",
       "   'xprv': 'xprvA3YBquoaiQxUApZfK9DwA1ziNP8WnbCvXFyGKUiBE8H86iRyWsg9MDT6UA8J1CeAizjhWwqs8xSC3UsKBErr7UhAihFcYCdSpfp2JWfiJVb',\n",
       "   'xpub': 'xpub6GXYFRLUYnWmPJe8RAkwX9wSvQy1C3vmtUts7s7nnTp6yWm84QzPu1maKQBvj7XsXRRWeFGxN7SUFaXnjkyDqFkv4W3en3rwWSfeZrFc1ju',\n",
       "   'privkey': '0xd6fc22e07ab6249f9afa39a1143ee68f183311e2478df1350e48a5d82ebf87e9',\n",
       "   'pubkey': '0257872142df3da8e966d2ad2d1fe3c222268e43c04e58f13bf05b4eece2aa7ba2',\n",
       "   'pubkeyhash': '321a9150fe83442d89fd875ccb61a03fc33c2675',\n",
       "   'index': 0},\n",
       "  {'path': \"m/44'/60'/0'/0/1\",\n",
       "   'address': '0x3cd4713cb58FCE3dC14f0527E19EA2A451F4c787',\n",
       "   'xprv': 'xprvA3YBquoaiQxUDFdgaqGRPZCGHMe3cBQg87HhenkN4Sjx2Towu4ZJie3vbwRepXDoKn8H6hE89Vf3CLz5w2cZW86BYbPHN5Toh9ijQqgHhpe',\n",
       "   'xpub': 'xpub6GXYFRLUYnWmRji9groRkh8zqPUY1e8XVLDJTB9ycnGvuG96SbsZGSNQTDP4AkQgtFNTtE5Y4AbXGMbPSVnbQmZDT9Yg4sdojcPrboMj8z6',\n",
       "   'privkey': '0x338964724443f8e65f6812d9888fb21fb9d577a69e199da78bb3e9349bc6d5af',\n",
       "   'pubkey': '02ad5313c6b5900a5bf55d1fc2f7965bdf5f1f41b6ac713e8a12bf30ae374d17e8',\n",
       "   'pubkeyhash': '7f032f24d3e45f697b77b115d1b73ff061af500d',\n",
       "   'index': 1},\n",
       "  {'path': \"m/44'/60'/0'/0/2\",\n",
       "   'address': '0x3235bb19f243a4D248439f878AeEbdd73C207C47',\n",
       "   'xprv': 'xprvA3YBquoaiQxUDpM5W6BqKKvPYpSDMUDdddTivGxreh2t2RVh7WQTmiiaEMsZnKSw96xHfKTLnQCFSvP7DSm4dcZugbrsXN9r8uwjbmn3VXt',\n",
       "   'xpub': 'xpub6GXYFRLUYnWmSJRYc7iqgTs86rGhkvwUzrPKifNUD2ZruDpqf3iiKX345fDi7B7iy3wLosPqsYdpoiW1udDo8eVQQsbYCjXRYvqN6X6ay21',\n",
       "   'privkey': '0x0d2aaaea5669e072877eae319eed4fa604c76c662d0e2f63ddee9ccc5030d94c',\n",
       "   'pubkey': '033e4968d22b43861298e98fd673baabbf30f2ea92465deefec5f013233725ad46',\n",
       "   'pubkeyhash': '516c91b8c44d27212a1caefa8b0722b2388a042b',\n",
       "   'index': 2}]}"
      ]
     },
     "execution_count": 12,
     "metadata": {},
     "output_type": "execute_result"
    }
   ],
   "source": [
    "# Create a function called `derive_wallets`\n",
    "def derive_wallets(coin='BTC', mnemonic=mnemonic, depth=3):\n",
    "    command = f'php ./hd-wallet-derive/hd-wallet-derive.php -g --mnemonic=\"{mnemonic}\" --cols=all --coin={coin} --numderive={depth} --format=json'\n",
    "    p = subprocess.Popen(command, stdout=subprocess.PIPE, shell=True)\n",
    "    output, err = p.communicate()\n",
    "    p_status = p.wait()\n",
    "    return json.loads(output)\n",
    "\n",
    "# Create a dictionary object called coins to store the output from `derive_wallets`.\n",
    "coins = {'BTCTEST': derive_wallets('BTC', mnemonic, depth=3), 'ETH': derive_wallets('ETH', mnemonic, depth=3)}\n",
    "coins"
   ]
  },
  {
   "cell_type": "code",
   "execution_count": null,
   "id": "95855ede-8ab5-4ea0-b731-25ce585a6f26",
   "metadata": {},
   "outputs": [],
   "source": [
    "# Create a function called `priv_key_to_account` that converts privkey strings to account objects.\n",
    "def priv_key_to_account(bit.wallet.PrivateKey):\n",
    "    return(PrivateKey)"
   ]
  },
  {
   "cell_type": "code",
   "execution_count": null,
   "id": "e97a1e31-b075-420b-b349-6c27b151b91c",
   "metadata": {},
   "outputs": [],
   "source": [
    "# Create a function called `create_tx` that creates an unsigned transaction appropriate metadata.\n",
    "def create_tx(account, recipient, amount):\n",
    "    # YOUR CODE HERE\n",
    "    return {\n",
    "        \"from\": account.address,\n",
    "        \"to\": recipient,\n",
    "        \"value\": amount,\n",
    "        \"gasPrice\": w3.eth.gasPrice,\n",
    "        \"gas\": gasEstimate,\n",
    "        \"nonce\": w3.eth.getTransactionCount(account.address),\n",
    "    }\n"
   ]
  },
  {
   "cell_type": "code",
   "execution_count": null,
   "id": "b8465013-265b-4e5f-8822-5d42ffa0fbc5",
   "metadata": {},
   "outputs": [],
   "source": [
    "# Create a function called `send_tx` that calls `create_tx`, signs and sends the transaction.\n",
    "def send_tx(account, recipient, amount):\n",
    "    tx = create_tx(account, recipient, amount)\n",
    "    signed_tx = account.sign_transaction(tx)\n",
    "    result = w3.eth.sendRawTransaction(signed_tx.rawTransaction)\n",
    "    print(result.hex())\n",
    "    return result.hex()\n",
    "    "
   ]
  }
 ],
 "metadata": {
  "kernelspec": {
   "display_name": "Python 3",
   "language": "python",
   "name": "python3"
  },
  "language_info": {
   "codemirror_mode": {
    "name": "ipython",
    "version": 3
   },
   "file_extension": ".py",
   "mimetype": "text/x-python",
   "name": "python",
   "nbconvert_exporter": "python",
   "pygments_lexer": "ipython3",
   "version": "3.7.10"
  }
 },
 "nbformat": 4,
 "nbformat_minor": 5
}
